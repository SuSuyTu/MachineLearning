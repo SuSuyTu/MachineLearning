{
 "cells": [
  {
   "cell_type": "code",
   "outputs": [],
   "source": [
    "# Import all the necessary libraries\n",
    "\n",
    "import numpy as np\n",
    "import pandas as pd\n",
    "from datetime import datetime as dt\n",
    "import itertools\n",
    "\n",
    "%matplotlib inline\n",
    "\n",
    "loc = \"Dataset\\\\\"\n",
    "\n",
    "raw_data_1 = pd.read_csv(loc + '2016-2017.csv')\n",
    "raw_data_2 = pd.read_csv(loc + '2017-2018.csv')\n",
    "raw_data_3 = pd.read_csv(loc + '2018-2019.csv')\n",
    "raw_data_4 = pd.read_csv(loc + '2019-2020.csv')\n",
    "raw_data_5 = pd.read_csv(loc + '2020-2021.csv')\n",
    "raw_data_6 = pd.read_csv(loc + '2021-2022.csv')\n",
    "raw_data_7 = pd.read_csv(loc + '2022-2023.csv')"
   ],
   "metadata": {
    "collapsed": false,
    "ExecuteTime": {
     "end_time": "2024-04-12T13:52:28.266666Z",
     "start_time": "2024-04-12T13:52:28.219260Z"
    }
   },
   "id": "initial_id",
   "execution_count": 47
  },
  {
   "cell_type": "code",
   "outputs": [],
   "source": [
    "#Gets all the statistics related to gameplay\n",
    "                      \n",
    "columns_req = ['HomeTeam','AwayTeam','FTHG','FTAG','FTR']\n",
    "\n",
    "playing_statistics_1 = raw_data_1[columns_req]                      \n",
    "playing_statistics_2 = raw_data_2[columns_req]\n",
    "playing_statistics_3 = raw_data_3[columns_req]\n",
    "playing_statistics_4 = raw_data_4[columns_req]\n",
    "playing_statistics_5 = raw_data_5[columns_req]\n",
    "playing_statistics_6 = raw_data_6[columns_req]\n",
    "playing_statistics_7 = raw_data_7[columns_req]"
   ],
   "metadata": {
    "collapsed": false,
    "ExecuteTime": {
     "end_time": "2024-04-12T13:52:28.811601Z",
     "start_time": "2024-04-12T13:52:28.803120Z"
    }
   },
   "id": "b8518cb527cd878b",
   "execution_count": 48
  },
  {
   "cell_type": "code",
   "outputs": [],
   "source": [
    "playing_stat = pd.concat([raw_data_1,raw_data_2,raw_data_3,raw_data_4,raw_data_5,raw_data_6,raw_data_7],ignore_index=True)"
   ],
   "metadata": {
    "collapsed": false,
    "ExecuteTime": {
     "end_time": "2024-04-12T13:52:29.428398Z",
     "start_time": "2024-04-12T13:52:29.408927Z"
    }
   },
   "id": "22041ac283d9b126",
   "execution_count": 49
  },
  {
   "cell_type": "code",
   "outputs": [
    {
     "data": {
      "text/plain": "     Div        Date     HomeTeam     AwayTeam  FTHG  FTAG FTR  HTHG  HTAG  \\\n2655  E0  28/05/2023      Everton  Bournemouth     1     0   H     0     0   \n2656  E0  28/05/2023        Leeds    Tottenham     1     4   A     0     1   \n2657  E0  28/05/2023    Leicester     West Ham     2     1   H     1     0   \n2658  E0  28/05/2023   Man United       Fulham     2     1   H     1     1   \n2659  E0  28/05/2023  Southampton    Liverpool     4     4   D     2     2   \n\n     HTR  ... AvgC<2.5  AHCh  B365CAHH  B365CAHA  PCAHH  PCAHA  MaxCAHH  \\\n2655   D  ...     2.14 -1.00      2.02      1.77   2.10   1.81     2.17   \n2656   A  ...     2.50  0.25      1.84      2.06   1.83   2.10     1.90   \n2657   H  ...     2.51 -0.25      1.75      2.05   1.85   2.06     1.90   \n2658   D  ...     2.95 -1.25      1.98      1.92   1.98   1.93     2.07   \n2659   D  ...     3.22  1.25      1.82      2.08   1.85   2.07     1.96   \n\n      MaxCAHA  AvgCAHH  AvgCAHA  \n2655     1.92     2.03     1.83  \n2656     2.14     1.81     2.06  \n2657     2.16     1.82     2.04  \n2658     1.98     1.97     1.89  \n2659     2.12     1.88     1.98  \n\n[5 rows x 127 columns]",
      "text/html": "<div>\n<style scoped>\n    .dataframe tbody tr th:only-of-type {\n        vertical-align: middle;\n    }\n\n    .dataframe tbody tr th {\n        vertical-align: top;\n    }\n\n    .dataframe thead th {\n        text-align: right;\n    }\n</style>\n<table border=\"1\" class=\"dataframe\">\n  <thead>\n    <tr style=\"text-align: right;\">\n      <th></th>\n      <th>Div</th>\n      <th>Date</th>\n      <th>HomeTeam</th>\n      <th>AwayTeam</th>\n      <th>FTHG</th>\n      <th>FTAG</th>\n      <th>FTR</th>\n      <th>HTHG</th>\n      <th>HTAG</th>\n      <th>HTR</th>\n      <th>...</th>\n      <th>AvgC&lt;2.5</th>\n      <th>AHCh</th>\n      <th>B365CAHH</th>\n      <th>B365CAHA</th>\n      <th>PCAHH</th>\n      <th>PCAHA</th>\n      <th>MaxCAHH</th>\n      <th>MaxCAHA</th>\n      <th>AvgCAHH</th>\n      <th>AvgCAHA</th>\n    </tr>\n  </thead>\n  <tbody>\n    <tr>\n      <th>2655</th>\n      <td>E0</td>\n      <td>28/05/2023</td>\n      <td>Everton</td>\n      <td>Bournemouth</td>\n      <td>1</td>\n      <td>0</td>\n      <td>H</td>\n      <td>0</td>\n      <td>0</td>\n      <td>D</td>\n      <td>...</td>\n      <td>2.14</td>\n      <td>-1.00</td>\n      <td>2.02</td>\n      <td>1.77</td>\n      <td>2.10</td>\n      <td>1.81</td>\n      <td>2.17</td>\n      <td>1.92</td>\n      <td>2.03</td>\n      <td>1.83</td>\n    </tr>\n    <tr>\n      <th>2656</th>\n      <td>E0</td>\n      <td>28/05/2023</td>\n      <td>Leeds</td>\n      <td>Tottenham</td>\n      <td>1</td>\n      <td>4</td>\n      <td>A</td>\n      <td>0</td>\n      <td>1</td>\n      <td>A</td>\n      <td>...</td>\n      <td>2.50</td>\n      <td>0.25</td>\n      <td>1.84</td>\n      <td>2.06</td>\n      <td>1.83</td>\n      <td>2.10</td>\n      <td>1.90</td>\n      <td>2.14</td>\n      <td>1.81</td>\n      <td>2.06</td>\n    </tr>\n    <tr>\n      <th>2657</th>\n      <td>E0</td>\n      <td>28/05/2023</td>\n      <td>Leicester</td>\n      <td>West Ham</td>\n      <td>2</td>\n      <td>1</td>\n      <td>H</td>\n      <td>1</td>\n      <td>0</td>\n      <td>H</td>\n      <td>...</td>\n      <td>2.51</td>\n      <td>-0.25</td>\n      <td>1.75</td>\n      <td>2.05</td>\n      <td>1.85</td>\n      <td>2.06</td>\n      <td>1.90</td>\n      <td>2.16</td>\n      <td>1.82</td>\n      <td>2.04</td>\n    </tr>\n    <tr>\n      <th>2658</th>\n      <td>E0</td>\n      <td>28/05/2023</td>\n      <td>Man United</td>\n      <td>Fulham</td>\n      <td>2</td>\n      <td>1</td>\n      <td>H</td>\n      <td>1</td>\n      <td>1</td>\n      <td>D</td>\n      <td>...</td>\n      <td>2.95</td>\n      <td>-1.25</td>\n      <td>1.98</td>\n      <td>1.92</td>\n      <td>1.98</td>\n      <td>1.93</td>\n      <td>2.07</td>\n      <td>1.98</td>\n      <td>1.97</td>\n      <td>1.89</td>\n    </tr>\n    <tr>\n      <th>2659</th>\n      <td>E0</td>\n      <td>28/05/2023</td>\n      <td>Southampton</td>\n      <td>Liverpool</td>\n      <td>4</td>\n      <td>4</td>\n      <td>D</td>\n      <td>2</td>\n      <td>2</td>\n      <td>D</td>\n      <td>...</td>\n      <td>3.22</td>\n      <td>1.25</td>\n      <td>1.82</td>\n      <td>2.08</td>\n      <td>1.85</td>\n      <td>2.07</td>\n      <td>1.96</td>\n      <td>2.12</td>\n      <td>1.88</td>\n      <td>1.98</td>\n    </tr>\n  </tbody>\n</table>\n<p>5 rows × 127 columns</p>\n</div>"
     },
     "execution_count": 50,
     "metadata": {},
     "output_type": "execute_result"
    }
   ],
   "source": [
    "playing_stat.tail()"
   ],
   "metadata": {
    "collapsed": false,
    "ExecuteTime": {
     "end_time": "2024-04-12T13:52:29.980678Z",
     "start_time": "2024-04-12T13:52:29.955787Z"
    }
   },
   "id": "59c1fcb82eb63b68",
   "execution_count": 50
  },
  {
   "cell_type": "markdown",
   "source": [
    "FTHG - Full Time Home Goal\n",
    "FTAG - Half Time Away Goal\n",
    "FTR - Full Time Result\n",
    "HTHG - Half Time Home Goal\n",
    "HTAG - Half Time Away Goal\n",
    "HTR - Half Time Result\n",
    "HS - Home Shots\n",
    "AS - Away Shots\n",
    "HST - Home Shots on Target\n",
    "AST - Away Shots on Target\n",
    "HF - Home Team Foul\n",
    "AF - Away Team Foul\n",
    "HC - Home Team Corner\n",
    "AC - Away Team Corner\n",
    "HY - Home Team Yellow Card\n",
    "Ay - Away Team Yellow Card\n",
    "HR - Home Team Red Card\n",
    "Ar - Away Team Red Card"
   ],
   "metadata": {
    "collapsed": false
   },
   "id": "2392c28cfac02ae3"
  },
  {
   "cell_type": "code",
   "outputs": [],
   "source": [
    "# Creating csv file from the merged dataframe\n",
    "\n",
    "playing_stat.to_csv(loc + \"Merged_dataset.csv\")"
   ],
   "metadata": {
    "collapsed": false,
    "ExecuteTime": {
     "end_time": "2024-04-12T13:52:36.900211Z",
     "start_time": "2024-04-12T13:52:36.753934Z"
    }
   },
   "id": "5f12510d5bb9e5e9",
   "execution_count": 51
  },
  {
   "cell_type": "code",
   "outputs": [],
   "source": [
    "df = pd.read_csv(\"Dataset\\\\merged_dataset.csv\")"
   ],
   "metadata": {
    "collapsed": false,
    "ExecuteTime": {
     "end_time": "2024-04-12T13:52:37.306775Z",
     "start_time": "2024-04-12T13:52:37.268716Z"
    }
   },
   "id": "cd28dc8103115b02",
   "execution_count": 52
  },
  {
   "cell_type": "code",
   "outputs": [
    {
     "name": "stdout",
     "output_type": "stream",
     "text": [
      "1.530451127819549\n"
     ]
    }
   ],
   "source": [
    "table = pd.DataFrame(columns=('Team','HGS','AGS','HAS','AAS','HGC','AGC','HDS','ADS'))\n",
    "\n",
    "avg_home_scored = df.FTHG.sum() / df.shape[0]\n",
    "avg_away_scored = df.FTAG.sum() / df.shape[0]\n",
    "avg_home_conceded = avg_away_scored\n",
    "avg_away_conceded = avg_home_scored\n",
    "print(avg_away_conceded)"
   ],
   "metadata": {
    "collapsed": false,
    "ExecuteTime": {
     "end_time": "2024-04-12T13:52:37.895731Z",
     "start_time": "2024-04-12T13:52:37.888370Z"
    }
   },
   "id": "e9fcbc8cd49a3b6e",
   "execution_count": 53
  },
  {
   "cell_type": "code",
   "outputs": [
    {
     "data": {
      "text/plain": "dict_keys(['Arsenal', 'Aston Villa', 'Bournemouth', 'Brentford', 'Brighton', 'Burnley', 'Cardiff', 'Chelsea', 'Crystal Palace', 'Everton', 'Fulham', 'Huddersfield', 'Hull', 'Leeds', 'Leicester', 'Liverpool', 'Man City', 'Man United', 'Middlesbrough', 'Newcastle', 'Norwich', \"Nott'm Forest\", 'Sheffield United', 'Southampton', 'Stoke', 'Sunderland', 'Swansea', 'Tottenham', 'Watford', 'West Brom', 'West Ham', 'Wolves'])"
     },
     "execution_count": 85,
     "metadata": {},
     "output_type": "execute_result"
    }
   ],
   "source": [
    "res_home = df.groupby('HomeTeam')\n",
    "res_away = df.groupby('AwayTeam')\n",
    "res_home.groups.keys()"
   ],
   "metadata": {
    "collapsed": false,
    "ExecuteTime": {
     "end_time": "2024-04-12T14:10:48.415776Z",
     "start_time": "2024-04-12T14:10:48.408152Z"
    }
   },
   "id": "d4b5cbbabf7ca46b",
   "execution_count": 85
  },
  {
   "cell_type": "markdown",
   "source": [
    "We calculate attacking strength of each team at home and away from goals scored at home and away. We will use this as a feature in our prediction model."
   ],
   "metadata": {
    "collapsed": false
   },
   "id": "384b5abdf3f9d378"
  },
  {
   "cell_type": "code",
   "outputs": [
    {
     "name": "stdout",
     "output_type": "stream",
     "text": [
      "                Team  HGS  HGC  AGS  AGC       HAS       AAS       HDS  \\\n",
      "0            Arsenal  283  139  201  185  1.155705  1.013843  0.701115   \n",
      "1        Aston Villa  113  107   86  106  0.461465  0.433783  0.539707   \n",
      "2        Bournemouth  133  142  100  192  0.543141  0.504399  0.716247   \n",
      "3          Brentford   57   39   49   63  0.232775  0.247156  0.196716   \n",
      "4           Brighton  141  146  121  165  0.575811  0.610323  0.736423   \n",
      "5            Burnley  122  144  108  176  0.498219  0.544751  0.726335   \n",
      "6            Cardiff   21   38   13   31  0.085759  0.065572  0.191672   \n",
      "7            Chelsea  242  120  209  160  0.988271  1.054194  0.605279   \n",
      "8     Crystal Palace  155  167  153  215  0.632983  0.771731  0.842347   \n",
      "9            Everton  191  160  137  215  0.779999  0.691027  0.807039   \n",
      "10            Fulham   62   93   54   94  0.253193  0.272376  0.469091   \n",
      "11      Huddersfield   26   56   24   78  0.106178  0.121056  0.282464   \n",
      "12              Hull   28   35    9   45  0.114345  0.045396  0.176540   \n",
      "13             Leeds   73   96   79  115  0.298115  0.398475  0.484223   \n",
      "14         Leicester  206  164  197  225  0.841255  0.993667  0.827215   \n",
      "15         Liverpool  321  100  252  150  1.310888  1.271086  0.504399   \n",
      "16          Man City  373  105  286  110  1.523244  1.442582  0.529619   \n",
      "17        Man United  243  123  198  168  0.992354  0.998711  0.620411   \n",
      "18     Middlesbrough   17   23   10   30  0.069424  0.050440  0.116012   \n",
      "19         Newcastle  153  137  124  173  0.624816  0.625455  0.691027   \n",
      "20           Norwich   31   80   18   79  0.126597  0.090792  0.403519   \n",
      "21     Nott'm Forest   27   24   11   44  0.110262  0.055484  0.121056   \n",
      "22  Sheffield United   36   42   23   60  0.147015  0.116012  0.211848   \n",
      "23       Southampton  155  198  145  239  0.632983  0.731379  0.998711   \n",
      "24             Stoke   44   54   32   70  0.179686  0.161408  0.272376   \n",
      "25        Sunderland   16   34   13   35  0.065340  0.065572  0.171496   \n",
      "26           Swansea   44   58   29   68  0.179686  0.146276  0.292552   \n",
      "27         Tottenham  267  122  228  174  1.090365  1.150030  0.615367   \n",
      "28           Watford  117  161   89  171  0.477800  0.448915  0.812083   \n",
      "29         West Brom   63   90   46   93  0.257277  0.232024  0.453959   \n",
      "30          West Ham  196  189  164  213  0.800418  0.827215  0.953315   \n",
      "31            Wolves  115  110   88  129  0.469633  0.443871  0.554839   \n",
      "\n",
      "         ADS  \n",
      "0   0.755496  \n",
      "1   0.432879  \n",
      "2   0.784083  \n",
      "3   0.257277  \n",
      "4   0.673821  \n",
      "5   0.718742  \n",
      "6   0.126597  \n",
      "7   0.653402  \n",
      "8   0.878009  \n",
      "9   0.878009  \n",
      "10  0.383874  \n",
      "11  0.318534  \n",
      "12  0.183769  \n",
      "13  0.469633  \n",
      "14  0.918847  \n",
      "15  0.612564  \n",
      "16  0.449214  \n",
      "17  0.686072  \n",
      "18  0.122513  \n",
      "19  0.706491  \n",
      "20  0.322617  \n",
      "21  0.179686  \n",
      "22  0.245026  \n",
      "23  0.976019  \n",
      "24  0.285863  \n",
      "25  0.142932  \n",
      "26  0.277696  \n",
      "27  0.710575  \n",
      "28  0.698324  \n",
      "29  0.379790  \n",
      "30  0.869842  \n",
      "31  0.526805  \n"
     ]
    }
   ],
   "source": [
    "# Tạo DataFrame table với các cột cần thiết\n",
    "table = pd.DataFrame(columns=['Team', 'HGS', 'HGC', 'AGS', 'AGC', 'HAS', 'AAS', 'HDS', 'ADS'])\n",
    "\n",
    "# Gán dữ liệu cho các cột\n",
    "table['Team'] = list(res_home.groups.keys())\n",
    "table['HGS'] = res_home.FTHG.sum().values\n",
    "table['HGC'] = res_home.FTAG.sum().values\n",
    "table['AGS'] = res_away.FTAG.sum().values\n",
    "table['AGC'] = res_away.FTHG.sum().values\n",
    "\n",
    "table['HAS'] = (table['HGS'] / 160.0) / avg_home_scored\n",
    "table['AAS'] = (table['AGS'] / 160.0) / avg_away_scored\n",
    "table['HDS'] = (table['HGC'] / 160.0) / avg_home_conceded\n",
    "table['ADS'] = (table['AGC'] / 160.0) / avg_away_conceded\n",
    "\n",
    "# In ra DataFrame table\n",
    "print(table)\n"
   ],
   "metadata": {
    "collapsed": false,
    "ExecuteTime": {
     "end_time": "2024-04-12T14:15:29.898379Z",
     "start_time": "2024-04-12T14:15:29.885300Z"
    }
   },
   "id": "6f92503d3ecd8a8b",
   "execution_count": 93
  },
  {
   "cell_type": "markdown",
   "source": [
    "HGS - Home Goals Scored\n",
    "\n",
    "HGC - Home Goals Conceded\n",
    "\n",
    "AGS - Away Goals Scored\n",
    "\n",
    "AGS - Away Goals Conceded\n",
    "\n",
    "HAS - Home Attacking Strength\n",
    "\n",
    "HDS - Home Defensive Strength\n",
    "\n",
    "AAS - Away Attacking Strength\n",
    "\n",
    "ADS - Away Defensive Strength"
   ],
   "metadata": {
    "collapsed": false
   },
   "id": "3de10f9be00d3cd7"
  },
  {
   "cell_type": "code",
   "outputs": [
    {
     "data": {
      "text/plain": "            HomeTeam     AwayTeam FTR  HST  AST  HC  AC       HAS       HDS  \\\n0            Burnley      Swansea   A    3    9   7   4  0.498219  0.726335   \n1     Crystal Palace    West Brom   A    4    3   3   6  0.632983  0.842347   \n2            Everton    Tottenham   D    6    4   5   6  0.779999  0.807039   \n3               Hull    Leicester   H    5    5   5   3  0.114345  0.176540   \n4           Man City   Sunderland   H    4    3   9   6  1.523244  0.529619   \n...              ...          ...  ..  ...  ...  ..  ..       ...       ...   \n2655         Everton  Bournemouth   H    6    2   9   3  0.779999  0.807039   \n2656           Leeds    Tottenham   A    2    7  12   3  0.298115  0.484223   \n2657       Leicester     West Ham   H    4    3   3   5  0.841255  0.827215   \n2658      Man United       Fulham   H    8    3   5   4  0.992354  0.620411   \n2659     Southampton    Liverpool   D   10    8   2   9  0.632983  0.998711   \n\n           AAS       ADS  \n0     0.146276  0.277696  \n1     0.232024  0.379790  \n2     1.150030  0.710575  \n3     0.993667  0.918847  \n4     0.065572  0.142932  \n...        ...       ...  \n2655  0.504399  0.784083  \n2656  1.150030  0.710575  \n2657  0.827215  0.869842  \n2658  0.272376  0.383874  \n2659  1.271086  0.612564  \n\n[2660 rows x 11 columns]",
      "text/html": "<div>\n<style scoped>\n    .dataframe tbody tr th:only-of-type {\n        vertical-align: middle;\n    }\n\n    .dataframe tbody tr th {\n        vertical-align: top;\n    }\n\n    .dataframe thead th {\n        text-align: right;\n    }\n</style>\n<table border=\"1\" class=\"dataframe\">\n  <thead>\n    <tr style=\"text-align: right;\">\n      <th></th>\n      <th>HomeTeam</th>\n      <th>AwayTeam</th>\n      <th>FTR</th>\n      <th>HST</th>\n      <th>AST</th>\n      <th>HC</th>\n      <th>AC</th>\n      <th>HAS</th>\n      <th>HDS</th>\n      <th>AAS</th>\n      <th>ADS</th>\n    </tr>\n  </thead>\n  <tbody>\n    <tr>\n      <th>0</th>\n      <td>Burnley</td>\n      <td>Swansea</td>\n      <td>A</td>\n      <td>3</td>\n      <td>9</td>\n      <td>7</td>\n      <td>4</td>\n      <td>0.498219</td>\n      <td>0.726335</td>\n      <td>0.146276</td>\n      <td>0.277696</td>\n    </tr>\n    <tr>\n      <th>1</th>\n      <td>Crystal Palace</td>\n      <td>West Brom</td>\n      <td>A</td>\n      <td>4</td>\n      <td>3</td>\n      <td>3</td>\n      <td>6</td>\n      <td>0.632983</td>\n      <td>0.842347</td>\n      <td>0.232024</td>\n      <td>0.379790</td>\n    </tr>\n    <tr>\n      <th>2</th>\n      <td>Everton</td>\n      <td>Tottenham</td>\n      <td>D</td>\n      <td>6</td>\n      <td>4</td>\n      <td>5</td>\n      <td>6</td>\n      <td>0.779999</td>\n      <td>0.807039</td>\n      <td>1.150030</td>\n      <td>0.710575</td>\n    </tr>\n    <tr>\n      <th>3</th>\n      <td>Hull</td>\n      <td>Leicester</td>\n      <td>H</td>\n      <td>5</td>\n      <td>5</td>\n      <td>5</td>\n      <td>3</td>\n      <td>0.114345</td>\n      <td>0.176540</td>\n      <td>0.993667</td>\n      <td>0.918847</td>\n    </tr>\n    <tr>\n      <th>4</th>\n      <td>Man City</td>\n      <td>Sunderland</td>\n      <td>H</td>\n      <td>4</td>\n      <td>3</td>\n      <td>9</td>\n      <td>6</td>\n      <td>1.523244</td>\n      <td>0.529619</td>\n      <td>0.065572</td>\n      <td>0.142932</td>\n    </tr>\n    <tr>\n      <th>...</th>\n      <td>...</td>\n      <td>...</td>\n      <td>...</td>\n      <td>...</td>\n      <td>...</td>\n      <td>...</td>\n      <td>...</td>\n      <td>...</td>\n      <td>...</td>\n      <td>...</td>\n      <td>...</td>\n    </tr>\n    <tr>\n      <th>2655</th>\n      <td>Everton</td>\n      <td>Bournemouth</td>\n      <td>H</td>\n      <td>6</td>\n      <td>2</td>\n      <td>9</td>\n      <td>3</td>\n      <td>0.779999</td>\n      <td>0.807039</td>\n      <td>0.504399</td>\n      <td>0.784083</td>\n    </tr>\n    <tr>\n      <th>2656</th>\n      <td>Leeds</td>\n      <td>Tottenham</td>\n      <td>A</td>\n      <td>2</td>\n      <td>7</td>\n      <td>12</td>\n      <td>3</td>\n      <td>0.298115</td>\n      <td>0.484223</td>\n      <td>1.150030</td>\n      <td>0.710575</td>\n    </tr>\n    <tr>\n      <th>2657</th>\n      <td>Leicester</td>\n      <td>West Ham</td>\n      <td>H</td>\n      <td>4</td>\n      <td>3</td>\n      <td>3</td>\n      <td>5</td>\n      <td>0.841255</td>\n      <td>0.827215</td>\n      <td>0.827215</td>\n      <td>0.869842</td>\n    </tr>\n    <tr>\n      <th>2658</th>\n      <td>Man United</td>\n      <td>Fulham</td>\n      <td>H</td>\n      <td>8</td>\n      <td>3</td>\n      <td>5</td>\n      <td>4</td>\n      <td>0.992354</td>\n      <td>0.620411</td>\n      <td>0.272376</td>\n      <td>0.383874</td>\n    </tr>\n    <tr>\n      <th>2659</th>\n      <td>Southampton</td>\n      <td>Liverpool</td>\n      <td>D</td>\n      <td>10</td>\n      <td>8</td>\n      <td>2</td>\n      <td>9</td>\n      <td>0.632983</td>\n      <td>0.998711</td>\n      <td>1.271086</td>\n      <td>0.612564</td>\n    </tr>\n  </tbody>\n</table>\n<p>2660 rows × 11 columns</p>\n</div>"
     },
     "execution_count": 94,
     "metadata": {},
     "output_type": "execute_result"
    }
   ],
   "source": [
    "#Extract necessary features from the data file\n",
    "feature_table = df.iloc[:,:23]\n",
    "\n",
    "#Full Time Result(FTR), Home Shots on Target(HST), Away Shots on Target(AST), Home Corners(HC), Away Corners(AC)\n",
    "feature_table = feature_table[['HomeTeam','AwayTeam','FTR','HST','AST','HC','AC']]\n",
    "\n",
    "#Home Attacking Strength(HAS), Home Defensive Strength(HDS), Away Attacking Strength(AAS), Away Defensive Strength(ADS)\n",
    "f_HAS = []\n",
    "f_HDS = []\n",
    "f_AAS = []\n",
    "f_ADS = []\n",
    "for index,row in feature_table.iterrows():\n",
    "    f_HAS.append(table[table['Team'] == row['HomeTeam']]['HAS'].values[0])\n",
    "    f_HDS.append(table[table['Team'] == row['HomeTeam']]['HDS'].values[0])\n",
    "    f_AAS.append(table[table['Team'] == row['AwayTeam']]['AAS'].values[0])\n",
    "    f_ADS.append(table[table['Team'] == row['AwayTeam']]['ADS'].values[0])\n",
    "\n",
    "feature_table['HAS'] = f_HAS\n",
    "feature_table['HDS'] = f_HDS\n",
    "feature_table['AAS'] = f_AAS\n",
    "feature_table['ADS'] = f_ADS\n",
    "feature_table"
   ],
   "metadata": {
    "collapsed": false,
    "ExecuteTime": {
     "end_time": "2024-04-12T14:15:59.638226Z",
     "start_time": "2024-04-12T14:15:55.799125Z"
    }
   },
   "id": "d8d13ec1adab0ba4",
   "execution_count": 94
  },
  {
   "cell_type": "markdown",
   "source": [
    "Converting the features to csv file"
   ],
   "metadata": {
    "collapsed": false
   },
   "id": "17df3b3d10a31b65"
  },
  {
   "cell_type": "code",
   "outputs": [],
   "source": [
    "feature_table.to_csv(loc + \"Feature_table.csv\")"
   ],
   "metadata": {
    "collapsed": false,
    "ExecuteTime": {
     "end_time": "2024-04-12T14:16:46.687363Z",
     "start_time": "2024-04-12T14:16:46.663143Z"
    }
   },
   "id": "7e8b350855ae1ed8",
   "execution_count": 95
  },
  {
   "cell_type": "code",
   "outputs": [],
   "source": [
    "#Function to transform FTR into numeric data type\n",
    "def transformResult(row):\n",
    "    if(row.FTR == 'H'):\n",
    "        return 1\n",
    "    elif(row.FTR == 'A'):\n",
    "        return -1\n",
    "    else:\n",
    "        return 0"
   ],
   "metadata": {
    "collapsed": false,
    "ExecuteTime": {
     "end_time": "2024-04-12T14:17:02.048500Z",
     "start_time": "2024-04-12T14:17:02.045033Z"
    }
   },
   "id": "b222dd29edf5c698",
   "execution_count": 96
  },
  {
   "cell_type": "code",
   "outputs": [
    {
     "data": {
      "text/plain": "         HomeTeam     AwayTeam FTR  HST  AST  HC  AC       HAS       HDS  \\\n2655      Everton  Bournemouth   H    6    2   9   3  0.779999  0.807039   \n2656        Leeds    Tottenham   A    2    7  12   3  0.298115  0.484223   \n2657    Leicester     West Ham   H    4    3   3   5  0.841255  0.827215   \n2658   Man United       Fulham   H    8    3   5   4  0.992354  0.620411   \n2659  Southampton    Liverpool   D   10    8   2   9  0.632983  0.998711   \n\n           AAS       ADS  Result  \n2655  0.504399  0.784083       1  \n2656  1.150030  0.710575      -1  \n2657  0.827215  0.869842       1  \n2658  0.272376  0.383874       1  \n2659  1.271086  0.612564       0  ",
      "text/html": "<div>\n<style scoped>\n    .dataframe tbody tr th:only-of-type {\n        vertical-align: middle;\n    }\n\n    .dataframe tbody tr th {\n        vertical-align: top;\n    }\n\n    .dataframe thead th {\n        text-align: right;\n    }\n</style>\n<table border=\"1\" class=\"dataframe\">\n  <thead>\n    <tr style=\"text-align: right;\">\n      <th></th>\n      <th>HomeTeam</th>\n      <th>AwayTeam</th>\n      <th>FTR</th>\n      <th>HST</th>\n      <th>AST</th>\n      <th>HC</th>\n      <th>AC</th>\n      <th>HAS</th>\n      <th>HDS</th>\n      <th>AAS</th>\n      <th>ADS</th>\n      <th>Result</th>\n    </tr>\n  </thead>\n  <tbody>\n    <tr>\n      <th>2655</th>\n      <td>Everton</td>\n      <td>Bournemouth</td>\n      <td>H</td>\n      <td>6</td>\n      <td>2</td>\n      <td>9</td>\n      <td>3</td>\n      <td>0.779999</td>\n      <td>0.807039</td>\n      <td>0.504399</td>\n      <td>0.784083</td>\n      <td>1</td>\n    </tr>\n    <tr>\n      <th>2656</th>\n      <td>Leeds</td>\n      <td>Tottenham</td>\n      <td>A</td>\n      <td>2</td>\n      <td>7</td>\n      <td>12</td>\n      <td>3</td>\n      <td>0.298115</td>\n      <td>0.484223</td>\n      <td>1.150030</td>\n      <td>0.710575</td>\n      <td>-1</td>\n    </tr>\n    <tr>\n      <th>2657</th>\n      <td>Leicester</td>\n      <td>West Ham</td>\n      <td>H</td>\n      <td>4</td>\n      <td>3</td>\n      <td>3</td>\n      <td>5</td>\n      <td>0.841255</td>\n      <td>0.827215</td>\n      <td>0.827215</td>\n      <td>0.869842</td>\n      <td>1</td>\n    </tr>\n    <tr>\n      <th>2658</th>\n      <td>Man United</td>\n      <td>Fulham</td>\n      <td>H</td>\n      <td>8</td>\n      <td>3</td>\n      <td>5</td>\n      <td>4</td>\n      <td>0.992354</td>\n      <td>0.620411</td>\n      <td>0.272376</td>\n      <td>0.383874</td>\n      <td>1</td>\n    </tr>\n    <tr>\n      <th>2659</th>\n      <td>Southampton</td>\n      <td>Liverpool</td>\n      <td>D</td>\n      <td>10</td>\n      <td>8</td>\n      <td>2</td>\n      <td>9</td>\n      <td>0.632983</td>\n      <td>0.998711</td>\n      <td>1.271086</td>\n      <td>0.612564</td>\n      <td>0</td>\n    </tr>\n  </tbody>\n</table>\n</div>"
     },
     "execution_count": 97,
     "metadata": {},
     "output_type": "execute_result"
    }
   ],
   "source": [
    "feature_table[\"Result\"] = feature_table.apply(lambda row: transformResult(row),axis=1)\n",
    "feature_table.tail()"
   ],
   "metadata": {
    "collapsed": false,
    "ExecuteTime": {
     "end_time": "2024-04-12T14:17:08.194774Z",
     "start_time": "2024-04-12T14:17:08.150257Z"
    }
   },
   "id": "dfb82c639430d052",
   "execution_count": 97
  },
  {
   "cell_type": "markdown",
   "source": [
    "Creating two sets of training sets one with only has attacking and defensive strength and other set has attacking and defensive strength but also shots and corners"
   ],
   "metadata": {
    "collapsed": false
   },
   "id": "58d32647856b44ad"
  },
  {
   "cell_type": "code",
   "outputs": [
    {
     "data": {
      "text/plain": "           HAS       HDS       AAS       ADS\n2655  0.779999  0.807039  0.504399  0.784083\n2656  0.298115  0.484223  1.150030  0.710575\n2657  0.841255  0.827215  0.827215  0.869842\n2658  0.992354  0.620411  0.272376  0.383874\n2659  0.632983  0.998711  1.271086  0.612564",
      "text/html": "<div>\n<style scoped>\n    .dataframe tbody tr th:only-of-type {\n        vertical-align: middle;\n    }\n\n    .dataframe tbody tr th {\n        vertical-align: top;\n    }\n\n    .dataframe thead th {\n        text-align: right;\n    }\n</style>\n<table border=\"1\" class=\"dataframe\">\n  <thead>\n    <tr style=\"text-align: right;\">\n      <th></th>\n      <th>HAS</th>\n      <th>HDS</th>\n      <th>AAS</th>\n      <th>ADS</th>\n    </tr>\n  </thead>\n  <tbody>\n    <tr>\n      <th>2655</th>\n      <td>0.779999</td>\n      <td>0.807039</td>\n      <td>0.504399</td>\n      <td>0.784083</td>\n    </tr>\n    <tr>\n      <th>2656</th>\n      <td>0.298115</td>\n      <td>0.484223</td>\n      <td>1.150030</td>\n      <td>0.710575</td>\n    </tr>\n    <tr>\n      <th>2657</th>\n      <td>0.841255</td>\n      <td>0.827215</td>\n      <td>0.827215</td>\n      <td>0.869842</td>\n    </tr>\n    <tr>\n      <th>2658</th>\n      <td>0.992354</td>\n      <td>0.620411</td>\n      <td>0.272376</td>\n      <td>0.383874</td>\n    </tr>\n    <tr>\n      <th>2659</th>\n      <td>0.632983</td>\n      <td>0.998711</td>\n      <td>1.271086</td>\n      <td>0.612564</td>\n    </tr>\n  </tbody>\n</table>\n</div>"
     },
     "metadata": {},
     "output_type": "display_data"
    },
    {
     "data": {
      "text/plain": "           HAS       HDS       AAS       ADS  HST  AST  HC  AC\n2655  0.779999  0.807039  0.504399  0.784083    6    2   9   3\n2656  0.298115  0.484223  1.150030  0.710575    2    7  12   3\n2657  0.841255  0.827215  0.827215  0.869842    4    3   3   5\n2658  0.992354  0.620411  0.272376  0.383874    8    3   5   4\n2659  0.632983  0.998711  1.271086  0.612564   10    8   2   9",
      "text/html": "<div>\n<style scoped>\n    .dataframe tbody tr th:only-of-type {\n        vertical-align: middle;\n    }\n\n    .dataframe tbody tr th {\n        vertical-align: top;\n    }\n\n    .dataframe thead th {\n        text-align: right;\n    }\n</style>\n<table border=\"1\" class=\"dataframe\">\n  <thead>\n    <tr style=\"text-align: right;\">\n      <th></th>\n      <th>HAS</th>\n      <th>HDS</th>\n      <th>AAS</th>\n      <th>ADS</th>\n      <th>HST</th>\n      <th>AST</th>\n      <th>HC</th>\n      <th>AC</th>\n    </tr>\n  </thead>\n  <tbody>\n    <tr>\n      <th>2655</th>\n      <td>0.779999</td>\n      <td>0.807039</td>\n      <td>0.504399</td>\n      <td>0.784083</td>\n      <td>6</td>\n      <td>2</td>\n      <td>9</td>\n      <td>3</td>\n    </tr>\n    <tr>\n      <th>2656</th>\n      <td>0.298115</td>\n      <td>0.484223</td>\n      <td>1.150030</td>\n      <td>0.710575</td>\n      <td>2</td>\n      <td>7</td>\n      <td>12</td>\n      <td>3</td>\n    </tr>\n    <tr>\n      <th>2657</th>\n      <td>0.841255</td>\n      <td>0.827215</td>\n      <td>0.827215</td>\n      <td>0.869842</td>\n      <td>4</td>\n      <td>3</td>\n      <td>3</td>\n      <td>5</td>\n    </tr>\n    <tr>\n      <th>2658</th>\n      <td>0.992354</td>\n      <td>0.620411</td>\n      <td>0.272376</td>\n      <td>0.383874</td>\n      <td>8</td>\n      <td>3</td>\n      <td>5</td>\n      <td>4</td>\n    </tr>\n    <tr>\n      <th>2659</th>\n      <td>0.632983</td>\n      <td>0.998711</td>\n      <td>1.271086</td>\n      <td>0.612564</td>\n      <td>10</td>\n      <td>8</td>\n      <td>2</td>\n      <td>9</td>\n    </tr>\n  </tbody>\n</table>\n</div>"
     },
     "metadata": {},
     "output_type": "display_data"
    }
   ],
   "source": [
    "#Two sets of training sets - adding features.\n",
    "X_train = feature_table[['HAS','HDS','AAS','ADS']]\n",
    "X_train_2 = feature_table[['HAS','HDS','AAS','ADS','HST','AST','HC','AC']]\n",
    "y_train = feature_table['Result']\n",
    "display(X_train.tail())\n",
    "display(X_train_2.tail())"
   ],
   "metadata": {
    "collapsed": false,
    "ExecuteTime": {
     "end_time": "2024-04-12T14:17:34.043512Z",
     "start_time": "2024-04-12T14:17:34.027965Z"
    }
   },
   "id": "c689b12574512209",
   "execution_count": 98
  },
  {
   "cell_type": "markdown",
   "source": [
    "Multinomial Naive Bayes"
   ],
   "metadata": {
    "collapsed": false
   },
   "id": "5002bdc5230f8615"
  },
  {
   "cell_type": "code",
   "outputs": [],
   "source": [
    "from sklearn.naive_bayes import MultinomialNB\n",
    "from sklearn.model_selection import cross_val_score\n",
    "from sklearn.linear_model import LogisticRegression\n",
    "import matplotlib.pyplot as plt\n",
    "%matplotlib inline  \n",
    "from sklearn.svm import SVC\n",
    "from sklearn import linear_model"
   ],
   "metadata": {
    "collapsed": false,
    "ExecuteTime": {
     "end_time": "2024-04-12T14:18:01.287912Z",
     "start_time": "2024-04-12T14:18:01.164365Z"
    }
   },
   "id": "2827e8036ecce686",
   "execution_count": 99
  },
  {
   "cell_type": "code",
   "outputs": [
    {
     "name": "stdout",
     "output_type": "stream",
     "text": [
      "NB alpha  0   0.46466165413533833  :  0.5845864661654137\n",
      "NB alpha  50   0.4616541353383458  :  0.5864661654135339\n",
      "NB alpha  100   0.45714285714285713  :  0.5898496240601505\n",
      "NB alpha  150   0.45488721804511273  :  0.5894736842105264\n",
      "NB alpha  200   0.4526315789473684  :  0.5894736842105263\n",
      "NB alpha  250   0.4526315789473684  :  0.5902255639097744\n",
      "NB alpha  300   0.4526315789473684  :  0.5906015037593985\n",
      "NB alpha  350   0.4526315789473684  :  0.5913533834586465\n",
      "NB alpha  400   0.4526315789473684  :  0.5913533834586466\n",
      "NB alpha  450   0.4526315789473684  :  0.5906015037593985\n",
      "NB alpha  500   0.4526315789473684  :  0.5883458646616542\n",
      "NB alpha  550   0.4526315789473684  :  0.5894736842105264\n",
      "NB alpha  600   0.4526315789473684  :  0.5890977443609022\n",
      "NB alpha  650   0.4526315789473684  :  0.5898496240601504\n",
      "NB alpha  700   0.4526315789473684  :  0.5890977443609022\n",
      "NB alpha  750   0.4526315789473684  :  0.587593984962406\n",
      "NB alpha  800   0.4526315789473684  :  0.5868421052631579\n",
      "NB alpha  850   0.4526315789473684  :  0.5842105263157895\n",
      "NB alpha  900   0.4526315789473684  :  0.5830827067669173\n",
      "NB alpha  950   0.4526315789473684  :  0.5845864661654134\n"
     ]
    }
   ],
   "source": [
    "nbb_scores = []\n",
    "nbb_scores_2 = []\n",
    "\n",
    "for i in range(0,1000,50):\n",
    "    clf1 = MultinomialNB(alpha=i)\n",
    "    clf1.fit(X_train,y_train)\n",
    "    clf1.fit(X_train_2,y_train)\n",
    "    scores = cross_val_score(clf1, X_train, y_train, cv=10)\n",
    "    scores_2 = cross_val_score(clf1, X_train_2, y_train, cv=10)\n",
    "    print (\"NB alpha \",i,\" \", scores.mean(), \" : \", scores_2.mean())\n",
    "    \n",
    "    nbb_scores.append(scores.mean())  \n",
    "    nbb_scores_2.append(scores_2.mean())"
   ],
   "metadata": {
    "collapsed": false,
    "ExecuteTime": {
     "end_time": "2024-04-12T14:18:23.201158Z",
     "start_time": "2024-04-12T14:18:21.573588Z"
    }
   },
   "id": "c081b6398504a918",
   "execution_count": 101
  },
  {
   "cell_type": "code",
   "outputs": [
    {
     "name": "stdout",
     "output_type": "stream",
     "text": [
      "Naive Bayes  :  0.46466165413533833  :  0.5845864661654137\n",
      "SVM  :  0.5477443609022556  :  0.630827067669173\n"
     ]
    },
    {
     "name": "stderr",
     "output_type": "stream",
     "text": [
      "C:\\Users\\hoang\\PycharmProjects\\MachineLearning\\.venv\\Lib\\site-packages\\sklearn\\linear_model\\_logistic.py:469: ConvergenceWarning: lbfgs failed to converge (status=1):\n",
      "STOP: TOTAL NO. of ITERATIONS REACHED LIMIT.\n",
      "\n",
      "Increase the number of iterations (max_iter) or scale the data as shown in:\n",
      "    https://scikit-learn.org/stable/modules/preprocessing.html\n",
      "Please also refer to the documentation for alternative solver options:\n",
      "    https://scikit-learn.org/stable/modules/linear_model.html#logistic-regression\n",
      "  n_iter_i = _check_optimize_result(\n",
      "C:\\Users\\hoang\\PycharmProjects\\MachineLearning\\.venv\\Lib\\site-packages\\sklearn\\linear_model\\_logistic.py:469: ConvergenceWarning: lbfgs failed to converge (status=1):\n",
      "STOP: TOTAL NO. of ITERATIONS REACHED LIMIT.\n",
      "\n",
      "Increase the number of iterations (max_iter) or scale the data as shown in:\n",
      "    https://scikit-learn.org/stable/modules/preprocessing.html\n",
      "Please also refer to the documentation for alternative solver options:\n",
      "    https://scikit-learn.org/stable/modules/linear_model.html#logistic-regression\n",
      "  n_iter_i = _check_optimize_result(\n",
      "C:\\Users\\hoang\\PycharmProjects\\MachineLearning\\.venv\\Lib\\site-packages\\sklearn\\linear_model\\_logistic.py:469: ConvergenceWarning: lbfgs failed to converge (status=1):\n",
      "STOP: TOTAL NO. of ITERATIONS REACHED LIMIT.\n",
      "\n",
      "Increase the number of iterations (max_iter) or scale the data as shown in:\n",
      "    https://scikit-learn.org/stable/modules/preprocessing.html\n",
      "Please also refer to the documentation for alternative solver options:\n",
      "    https://scikit-learn.org/stable/modules/linear_model.html#logistic-regression\n",
      "  n_iter_i = _check_optimize_result(\n",
      "C:\\Users\\hoang\\PycharmProjects\\MachineLearning\\.venv\\Lib\\site-packages\\sklearn\\linear_model\\_logistic.py:469: ConvergenceWarning: lbfgs failed to converge (status=1):\n",
      "STOP: TOTAL NO. of ITERATIONS REACHED LIMIT.\n",
      "\n",
      "Increase the number of iterations (max_iter) or scale the data as shown in:\n",
      "    https://scikit-learn.org/stable/modules/preprocessing.html\n",
      "Please also refer to the documentation for alternative solver options:\n",
      "    https://scikit-learn.org/stable/modules/linear_model.html#logistic-regression\n",
      "  n_iter_i = _check_optimize_result(\n",
      "C:\\Users\\hoang\\PycharmProjects\\MachineLearning\\.venv\\Lib\\site-packages\\sklearn\\linear_model\\_logistic.py:469: ConvergenceWarning: lbfgs failed to converge (status=1):\n",
      "STOP: TOTAL NO. of ITERATIONS REACHED LIMIT.\n",
      "\n",
      "Increase the number of iterations (max_iter) or scale the data as shown in:\n",
      "    https://scikit-learn.org/stable/modules/preprocessing.html\n",
      "Please also refer to the documentation for alternative solver options:\n",
      "    https://scikit-learn.org/stable/modules/linear_model.html#logistic-regression\n",
      "  n_iter_i = _check_optimize_result(\n"
     ]
    },
    {
     "name": "stdout",
     "output_type": "stream",
     "text": [
      "Log regres  :  0.5530075187969924  :  0.6334586466165413\n"
     ]
    },
    {
     "name": "stderr",
     "output_type": "stream",
     "text": [
      "C:\\Users\\hoang\\PycharmProjects\\MachineLearning\\.venv\\Lib\\site-packages\\sklearn\\linear_model\\_logistic.py:469: ConvergenceWarning: lbfgs failed to converge (status=1):\n",
      "STOP: TOTAL NO. of ITERATIONS REACHED LIMIT.\n",
      "\n",
      "Increase the number of iterations (max_iter) or scale the data as shown in:\n",
      "    https://scikit-learn.org/stable/modules/preprocessing.html\n",
      "Please also refer to the documentation for alternative solver options:\n",
      "    https://scikit-learn.org/stable/modules/linear_model.html#logistic-regression\n",
      "  n_iter_i = _check_optimize_result(\n"
     ]
    }
   ],
   "source": [
    "clf = [MultinomialNB(), SVC(kernel = 'linear', C=1.5, probability=True), LogisticRegression()]\n",
    "\n",
    "labels = [ 'Naive Bayes', 'SVM', 'Log regres']\n",
    "\n",
    "mean_scores = []\n",
    "mean_scores_2 = []\n",
    "cms = []\n",
    "\n",
    "for i in range(0,3):\n",
    "\n",
    "    clf[i].fit(X_train,y_train)\n",
    "    clf[i].fit(X_train_2,y_train)\n",
    "\n",
    "    scores = cross_val_score(clf[i], X_train, y_train, cv=10)\n",
    "    scores_2 = cross_val_score(clf[i], X_train_2, y_train, cv=10)\n",
    "    print (labels[i],\" : \", scores.mean(), \" : \", scores_2.mean())\n",
    "    \n",
    "    mean_scores.append(scores.mean())  \n",
    "    mean_scores_2.append(scores_2.mean())"
   ],
   "metadata": {
    "collapsed": false,
    "ExecuteTime": {
     "end_time": "2024-04-12T14:19:56.982648Z",
     "start_time": "2024-04-12T14:19:30.757772Z"
    }
   },
   "id": "b189e343120f84dc",
   "execution_count": 103
  },
  {
   "cell_type": "code",
   "outputs": [
    {
     "data": {
      "text/plain": "<Figure size 1200x1000 with 2 Axes>",
      "image/png": "[encoded data removed]"
     },
     "metadata": {},
     "output_type": "display_data"
    }
   ],
   "source": [
    "fig = plt.figure(figsize = (12,10))\n",
    "\n",
    "ax = fig.add_subplot(2,2,1)\n",
    "\n",
    "ax.bar(range(0,3),mean_scores,align='center')\n",
    "ax.set_xticks(range(3))\n",
    "ax.set_xticks(range(3))\n",
    "ax.set_ylim(0,1)\n",
    "ax.set_ylabel(\"Accuracy\")\n",
    "ax.set_title(\"Training Set 1 - shots,corners not included\")\n",
    "ax.set_xticklabels(labels)\n",
    "\n",
    "ax2 = fig.add_subplot(2,2,2)\n",
    "ax2.bar(range(0,3),mean_scores_2,align='center');\n",
    "ax2.set_xticks(range(3))\n",
    "ax2.set_ylabel(\"Accuracy\")\n",
    "ax2.set_ylim(0,1)\n",
    "ax2.set_title(\"Training Set 2 - shots,corners included\")\n",
    "ax2.set_xticklabels(labels);"
   ],
   "metadata": {
    "collapsed": false,
    "ExecuteTime": {
     "end_time": "2024-04-12T14:21:25.259653Z",
     "start_time": "2024-04-12T14:21:25.002887Z"
    }
   },
   "id": "b1b84080a2492c8",
   "execution_count": 107
  }
 ],
 "metadata": {
  "kernelspec": {
   "display_name": "Python 3",
   "language": "python",
   "name": "python3"
  },
  "language_info": {
   "codemirror_mode": {
    "name": "ipython",
    "version": 2
   },
   "file_extension": ".py",
   "mimetype": "text/x-python",
   "name": "python",
   "nbconvert_exporter": "python",
   "pygments_lexer": "ipython2",
   "version": "2.7.6"
  }
 },
 "nbformat": 4,
 "nbformat_minor": 5
}
